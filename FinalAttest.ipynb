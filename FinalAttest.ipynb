{
 "cells": [
  {
   "cell_type": "markdown",
   "metadata": {
    "id": "9gxeQQ9SPi1r"
   },
   "source": [
    "###Проект представляет собой телеграм бота, который распознает на присланной фотографии фрукт или овощ и присылает три рецепта блюд, содержащих распознанный продукт.\n",
    "\n",
    "Данная программа может пригодиться в ситуации, когда, к примеру, человек стоит в магазине перед товарами и думает, что ему приготовить сегодня на ужиин. Он фотографирует лежащий перед ним овощ или фрукт и получает несколько подходящих вариантов, и ему не нужно прибегать к помощи поисковика и долго перебирать варианты. Либо человек вообще не знает, что за овощ перед ним, и хочет узнать, что это и как его можно приготовить.\n",
    "\n",
    "Исходные данные для обучения модели были взяты с сайта kaggle.com. Это набор фотографий овощей и фруктов, рассортированных по названиям. Видов продуктов в наборе не очень много, данный набор я использовала для пилотной версии проекта. В будущем планирую найти или собрать данные с большинством имеющихся в продаже фруктов и овощей для более корректной работы программы. Датасет с рецептами был взят с того же сайта и насчитывает более шести тысяч рецептов, из него были убраны столбцы, не несущие полезной информации для данного проекта.\n",
    "\n",
    "Обучение модели производилось с помощью библиотеки keras.\n",
    "\n",
    "В будущем можно улучшить программу до распознавания целого набора продуктов на фотографии и предложения рецептов из данного набора. Для этого понадобится гораздо бОльший набор данных для обучения модели. Для пополнения набора рецептов можно будет спарсить новые варианты с кулинарных сайтов. Также планирую после добавить функцию выбора пользователем типа желаемых блюд."
   ]
  },
  {
   "cell_type": "code",
   "execution_count": 1,
   "metadata": {
    "colab": {
     "base_uri": "https://localhost:8080/"
    },
    "id": "0dzit1c1TMQw",
    "outputId": "15a517d5-52f9-410f-d46c-8810295b2268"
   },
   "outputs": [
    {
     "name": "stdout",
     "output_type": "stream",
     "text": [
      "Requirement already satisfied: Pillow==9.1.0 in /home/bealtaine/anaconda3/lib/python3.9/site-packages (9.1.0)\r\n"
     ]
    }
   ],
   "source": [
    "!pip install Pillow==9.1.0"
   ]
  },
  {
   "cell_type": "code",
   "execution_count": 2,
   "metadata": {
    "colab": {
     "base_uri": "https://localhost:8080/"
    },
    "id": "J-c01V-7zyAT",
    "outputId": "49cd9121-8b52-42a6-9091-ccf44791c948"
   },
   "outputs": [
    {
     "name": "stdout",
     "output_type": "stream",
     "text": [
      "Requirement already satisfied: pyTelegramBotAPI in /home/bealtaine/anaconda3/lib/python3.9/site-packages (4.7.1)\r\n",
      "Requirement already satisfied: requests in /home/bealtaine/anaconda3/lib/python3.9/site-packages (from pyTelegramBotAPI) (2.28.1)\r\n",
      "Requirement already satisfied: idna<4,>=2.5 in /home/bealtaine/anaconda3/lib/python3.9/site-packages (from requests->pyTelegramBotAPI) (3.3)\r\n",
      "Requirement already satisfied: certifi>=2017.4.17 in /home/bealtaine/anaconda3/lib/python3.9/site-packages (from requests->pyTelegramBotAPI) (2022.6.15)\r\n",
      "Requirement already satisfied: charset-normalizer<3,>=2 in /home/bealtaine/anaconda3/lib/python3.9/site-packages (from requests->pyTelegramBotAPI) (2.0.4)\r\n",
      "Requirement already satisfied: urllib3<1.27,>=1.21.1 in /home/bealtaine/anaconda3/lib/python3.9/site-packages (from requests->pyTelegramBotAPI) (1.26.11)\r\n"
     ]
    }
   ],
   "source": [
    "!pip install pyTelegramBotAPI\n",
    "#!pip install tensorflow"
   ]
  },
  {
   "cell_type": "code",
   "execution_count": 2,
   "metadata": {
    "id": "N2hb0pImg-u1"
   },
   "outputs": [
    {
     "name": "stderr",
     "output_type": "stream",
     "text": [
      "2022-11-25 21:01:23.048588: I tensorflow/core/platform/cpu_feature_guard.cc:193] This TensorFlow binary is optimized with oneAPI Deep Neural Network Library (oneDNN) to use the following CPU instructions in performance-critical operations:  AVX2 FMA\n",
      "To enable them in other operations, rebuild TensorFlow with the appropriate compiler flags.\n",
      "2022-11-25 21:01:23.834927: W tensorflow/compiler/xla/stream_executor/platform/default/dso_loader.cc:64] Could not load dynamic library 'libcudart.so.11.0'; dlerror: libcudart.so.11.0: cannot open shared object file: No such file or directory; LD_LIBRARY_PATH: /home/bealtaine/anaconda3/lib/python3.9/site-packages/cv2/../../lib64:\n",
      "2022-11-25 21:01:23.835009: I tensorflow/compiler/xla/stream_executor/cuda/cudart_stub.cc:29] Ignore above cudart dlerror if you do not have a GPU set up on your machine.\n",
      "2022-11-25 21:01:25.876464: W tensorflow/compiler/xla/stream_executor/platform/default/dso_loader.cc:64] Could not load dynamic library 'libnvinfer.so.7'; dlerror: libnvinfer.so.7: cannot open shared object file: No such file or directory; LD_LIBRARY_PATH: /home/bealtaine/anaconda3/lib/python3.9/site-packages/cv2/../../lib64:\n",
      "2022-11-25 21:01:25.876823: W tensorflow/compiler/xla/stream_executor/platform/default/dso_loader.cc:64] Could not load dynamic library 'libnvinfer_plugin.so.7'; dlerror: libnvinfer_plugin.so.7: cannot open shared object file: No such file or directory; LD_LIBRARY_PATH: /home/bealtaine/anaconda3/lib/python3.9/site-packages/cv2/../../lib64:\n",
      "2022-11-25 21:01:25.876843: W tensorflow/compiler/tf2tensorrt/utils/py_utils.cc:38] TF-TRT Warning: Cannot dlopen some TensorRT libraries. If you would like to use Nvidia GPU with TensorRT, please make sure the missing libraries mentioned above are installed properly.\n"
     ]
    }
   ],
   "source": [
    "#from google.colab.patches import cv2_imshow\n",
    "from cv2 import imshow\n",
    "import cv2\n",
    "import numpy as np\n",
    "#import PIL\n",
    "import time\n",
    "import telebot\n",
    "import pandas as pd\n",
    "import tensorflow as tf\n",
    "from tensorflow import keras\n",
    "import matplotlib.pyplot as plt\n",
    "import os\n",
    "from glob import glob \n",
    "import pathlib\n",
    "import re\n",
    "from keras.models import load_model\n",
    "from PIL import Image, ImageOps "
   ]
  },
  {
   "cell_type": "code",
   "execution_count": 3,
   "metadata": {
    "id": "uvMTssOa0KLI"
   },
   "outputs": [],
   "source": [
    "PATH = '/home/bealtaine/Desktop/Python обучение'\n",
    "#PATH = '/content/drive/MyDrive/Python'"
   ]
  },
  {
   "cell_type": "code",
   "execution_count": null,
   "metadata": {
    "id": "i_S3EoDKefBM"
   },
   "outputs": [],
   "source": [
    "model = load_model(PATH + '/attest/Fruits and Vegetables/vegmodel.h5')\n",
    "class_names = open(PATH + '/attest/Fruits and Vegetables/classnames.txt', 'r').readlines()"
   ]
  },
  {
   "cell_type": "code",
   "execution_count": null,
   "metadata": {
    "id": "wZB6CYYGLLlC"
   },
   "outputs": [],
   "source": [
    "def image_helper(data):\n",
    "\n",
    "  prediction = model.predict(data)\n",
    "  index = np.argmax(prediction)\n",
    "  class_name = class_names[index]\n",
    "  confidence_score = prediction[0][index]\n",
    "\n",
    "  return class_name"
   ]
  },
  {
   "cell_type": "code",
   "execution_count": null,
   "metadata": {
    "id": "o1lXjlv8aU8l"
   },
   "outputs": [],
   "source": [
    "recipes = pd.read_csv(PATH + '/attest/allrecipes.csv', encoding='cp1250')\n",
    "del recipes['n_rater'], recipes['n_reviewer']\n",
    "recipes"
   ]
  },
  {
   "cell_type": "code",
   "execution_count": null,
   "metadata": {
    "id": "B9HU8ZD8zPRh"
   },
   "outputs": [],
   "source": [
    "def recipe(ingredient):\n",
    "\n",
    "  ingredient = str(ingredient)\n",
    "  id = []\n",
    "  for i in range(len(recipes['ingredient'])):\n",
    "    result = str(recipes['ingredient'][i]).find(ingredient)\n",
    "    if result != -1:\n",
    "      id.append(i)\n",
    "\n",
    "  n = 3\n",
    "  res = recipes.iloc[id, :].sort_values('rating', ascending=False).head(n)\n",
    "  r = ''\n",
    "  for i in range(n):\n",
    "    for j in range(len(recipes.iloc[0])):\n",
    "      r = r + str(res.iloc[i,j]) + '\\n'\n",
    "    r = r + '\\n'  \n",
    "    \n",
    "  return r"
   ]
  },
  {
   "cell_type": "code",
   "execution_count": null,
   "metadata": {
    "id": "GjziKImYhS4C"
   },
   "outputs": [],
   "source": [
    "from botconfig import TOKEN"
   ]
  },
  {
   "cell_type": "code",
   "execution_count": null,
   "metadata": {
    "id": "pbrjN8IThVD5"
   },
   "outputs": [],
   "source": [
    "bot = telebot.TeleBot(TOKEN)\n",
    "\n",
    "@bot.message_handler(content_types=[\"photo\"])\n",
    "def photografio(message):\n",
    "  file = bot.get_file(message.photo[-1].file_id)\n",
    "  bot.send_message(message.from_user.id, 'Минуту, распознаю, что на фото!')\n",
    "  dfile = bot.download_file(file.file_path)\n",
    "  fimg = message.photo[-1].file_id + '.png'\n",
    "  with open(fimg, 'wb') as new_file:\n",
    "    new_file.write(dfile)\n",
    "  new_file.close()\n",
    "\n",
    "  image = Image.open(fimg).convert('RGB')\n",
    "  data = np.ndarray(shape=(1, 224, 224, 3), dtype=np.float32)\n",
    "  size = (224, 224)\n",
    "  image = ImageOps.fit(image, size, Image.Resampling.LANCZOS)\n",
    "  image_array = np.asarray(image)\n",
    "  normalized_image_array = (image_array.astype(np.float32) / 127.0) - 1\n",
    "  data[0] = normalized_image_array\n",
    "\n",
    "  answer = image_helper(data)\n",
    "\n",
    "  print('Отправлено')\n",
    "  print(answer)\n",
    "  bot.send_message(message.from_user.id, answer)\n",
    "\n",
    "  time.sleep(3)\n",
    "  ingredient = ''.join(re.findall('[a-z]', answer))  # можно убрать обработку, классы уже без номеров\n",
    "  print(ingredient)\n",
    "  print(type(ingredient))\n",
    "  recipes_recommendation = recipe(ingredient)\n",
    "  print(recipes_recommendation)\n",
    "  bot.send_message(message.from_user.id, recipes_recommendation)\n",
    "\n",
    "bot.infinity_polling()"
   ]
  },
  {
   "cell_type": "code",
   "execution_count": null,
   "metadata": {
    "id": "0NSscWfvaQI6"
   },
   "outputs": [],
   "source": []
  },
  {
   "cell_type": "markdown",
   "metadata": {
    "id": "qQW_R4RIBlKE"
   },
   "source": [
    "#Обучение модели на основе датасета с фотографиями"
   ]
  },
  {
   "cell_type": "code",
   "execution_count": 4,
   "metadata": {
    "id": "0DTYWQFq4dJz"
   },
   "outputs": [],
   "source": [
    "import matplotlib.pyplot as plt\n",
    "from keras.models import Model\n",
    "from keras.models import Sequential\n",
    "from keras.layers import Flatten  \n",
    "from tensorflow.keras.preprocessing import image_dataset_from_directory\n",
    "from keras.layers import Dense"
   ]
  },
  {
   "cell_type": "code",
   "execution_count": 5,
   "metadata": {
    "colab": {
     "base_uri": "https://localhost:8080/"
    },
    "id": "_RgHwATvjrXJ",
    "outputId": "280b737d-1940-44a2-b9d0-92c4af6461a6"
   },
   "outputs": [
    {
     "name": "stdout",
     "output_type": "stream",
     "text": [
      "Found 2989 files belonging to 32 classes.\n",
      "Found 334 files belonging to 32 classes.\n",
      "Found 340 files belonging to 32 classes.\n"
     ]
    },
    {
     "name": "stderr",
     "output_type": "stream",
     "text": [
      "2022-11-25 21:01:31.900829: W tensorflow/compiler/xla/stream_executor/platform/default/dso_loader.cc:64] Could not load dynamic library 'libcuda.so.1'; dlerror: libcuda.so.1: cannot open shared object file: No such file or directory; LD_LIBRARY_PATH: /home/bealtaine/anaconda3/lib/python3.9/site-packages/cv2/../../lib64:\n",
      "2022-11-25 21:01:31.901566: W tensorflow/compiler/xla/stream_executor/cuda/cuda_driver.cc:265] failed call to cuInit: UNKNOWN ERROR (303)\n",
      "2022-11-25 21:01:31.901597: I tensorflow/compiler/xla/stream_executor/cuda/cuda_diagnostics.cc:156] kernel driver does not appear to be running on this host (nellybealtaine): /proc/driver/nvidia/version does not exist\n",
      "2022-11-25 21:01:31.904785: I tensorflow/core/platform/cpu_feature_guard.cc:193] This TensorFlow binary is optimized with oneAPI Deep Neural Network Library (oneDNN) to use the following CPU instructions in performance-critical operations:  AVX2 FMA\n",
      "To enable them in other operations, rebuild TensorFlow with the appropriate compiler flags.\n"
     ]
    }
   ],
   "source": [
    "train_set = PATH + '/attest/Fruits and Vegetables/train'\n",
    "valid_set = PATH + '/attest/Fruits and Vegetables/validation'\n",
    "test_set = PATH + '/attest/Fruits and Vegetables/test'\n",
    "\n",
    "train_dataset = image_dataset_from_directory(train_set,\n",
    "                                             batch_size=128,\n",
    "                                             image_size=(224, 224),\n",
    "                                             color_mode='rgb',\n",
    "                                             labels = 'inferred',\n",
    "                                             label_mode='categorical',\n",
    "                                             seed=42\n",
    "                                             )\n",
    "validation_dataset = image_dataset_from_directory(valid_set,\n",
    "                                             batch_size=10,\n",
    "                                             image_size=(224, 224),\n",
    "                                             color_mode='rgb',\n",
    "                                             labels = 'inferred',\n",
    "                                             label_mode='categorical',\n",
    "                                             seed=42\n",
    "                                             )\n",
    "test_dataset = image_dataset_from_directory(test_set,\n",
    "                                             batch_size=10,\n",
    "                                             image_size=(224, 224),\n",
    "                                             color_mode='rgb',\n",
    "                                             labels = 'inferred',\n",
    "                                             label_mode='categorical',\n",
    "                                             seed=42\n",
    "                                            )\n",
    "class_names = train_dataset.class_names\n",
    "class_names\n",
    "\n",
    "classes_file = open (PATH + '/attest/Fruits and Vegetables/classnames.txt', 'w') \n",
    "for element in class_names:\n",
    "     classes_file.write(element)\n",
    "     classes_file.write('\\n')\n",
    "classes_file.close ()"
   ]
  },
  {
   "cell_type": "code",
   "execution_count": 6,
   "metadata": {
    "id": "EVl0ZyiLodhg"
   },
   "outputs": [],
   "source": [
    "from keras.layers import Conv2D, MaxPooling2D"
   ]
  },
  {
   "cell_type": "code",
   "execution_count": 7,
   "metadata": {
    "id": "CFA3g-JCzCuJ"
   },
   "outputs": [],
   "source": [
    "model = Sequential()\n",
    "model.add(Conv2D(128, kernel_size = (3, 3), activation='relu', input_shape=(224,224,3)))  #Keras Conv2D - это слой двумерной свертки, этот слой создает ядро свертки, которое является ветром со входными слоями, которое помогает создавать тензор выходных данных.\n",
    "model.add(MaxPooling2D(pool_size=(2,2)))    #-слой дискретизации на основе выборки . Цель состоит в том, чтобы уменьшить выборку входного представления (изображение, выходную матрицу скрытого слоя и т. Д.), Уменьшив его размерность и сделав допущения относительно предположений о свойствах, содержащихся в выбранных субрегионах.\n",
    "model.add(Conv2D(64, kernel_size=(3,3), activation='relu'))\n",
    "model.add(MaxPooling2D(pool_size=(2,2)))\n",
    "model.add(Flatten()) #Преобразуем двумерные данные изображения в одномерные \n",
    "model.add(Dense(128, activation='relu'))\n",
    "model.add(Dense(32,activation='softmax'))\n",
    "# loss: 1.0510 - accuracy: 0.8982"
   ]
  },
  {
   "cell_type": "code",
   "execution_count": 8,
   "metadata": {
    "id": "6yU9mt0OyewP"
   },
   "outputs": [],
   "source": [
    "model.compile(optimizer='adam', loss='categorical_crossentropy', metrics=['accuracy'])"
   ]
  },
  {
   "cell_type": "code",
   "execution_count": 9,
   "metadata": {
    "colab": {
     "base_uri": "https://localhost:8080/"
    },
    "id": "VGRH5cmVqQVT",
    "outputId": "94bcc301-fb85-4682-d02b-f32bfe6f7704"
   },
   "outputs": [
    {
     "name": "stdout",
     "output_type": "stream",
     "text": [
      "Model: \"sequential\"\n",
      "_________________________________________________________________\n",
      " Layer (type)                Output Shape              Param #   \n",
      "=================================================================\n",
      " conv2d (Conv2D)             (None, 222, 222, 128)     3584      \n",
      "                                                                 \n",
      " max_pooling2d (MaxPooling2D  (None, 111, 111, 128)    0         \n",
      " )                                                               \n",
      "                                                                 \n",
      " conv2d_1 (Conv2D)           (None, 109, 109, 64)      73792     \n",
      "                                                                 \n",
      " max_pooling2d_1 (MaxPooling  (None, 54, 54, 64)       0         \n",
      " 2D)                                                             \n",
      "                                                                 \n",
      " flatten (Flatten)           (None, 186624)            0         \n",
      "                                                                 \n",
      " dense (Dense)               (None, 128)               23888000  \n",
      "                                                                 \n",
      " dense_1 (Dense)             (None, 32)                4128      \n",
      "                                                                 \n",
      "=================================================================\n",
      "Total params: 23,969,504\n",
      "Trainable params: 23,969,504\n",
      "Non-trainable params: 0\n",
      "_________________________________________________________________\n"
     ]
    }
   ],
   "source": [
    "model.summary()"
   ]
  },
  {
   "cell_type": "code",
   "execution_count": null,
   "metadata": {
    "colab": {
     "base_uri": "https://localhost:8080/"
    },
    "id": "QL3IDU2w0nAo",
    "outputId": "1c9ce550-c12c-40e3-d7c3-30e31860e17a",
    "scrolled": false
   },
   "outputs": [
    {
     "name": "stdout",
     "output_type": "stream",
     "text": [
      "Epoch 1/10\n"
     ]
    },
    {
     "name": "stderr",
     "output_type": "stream",
     "text": [
      "2022-11-25 21:01:38.454381: W tensorflow/core/lib/png/png_io.cc:88] PNG warning: iCCP: known incorrect sRGB profile\n",
      "2022-11-25 21:01:40.085580: W tensorflow/core/lib/png/png_io.cc:88] PNG warning: iCCP: known incorrect sRGB profile\n",
      "2022-11-25 21:01:42.292053: W tensorflow/core/lib/png/png_io.cc:88] PNG warning: iCCP: known incorrect sRGB profile\n",
      "2022-11-25 21:01:44.706184: W tensorflow/core/lib/png/png_io.cc:88] PNG warning: iCCP: known incorrect sRGB profile\n",
      "2022-11-25 21:01:46.888475: I tensorflow/core/kernels/data/shuffle_dataset_op.cc:392] Filling up shuffle buffer (this may take a while): 1017 of 1024\n",
      "2022-11-25 21:01:46.888526: I tensorflow/core/kernels/data/shuffle_dataset_op.cc:417] Shuffle buffer filled.\n",
      "2022-11-25 21:01:48.322354: W tensorflow/tsl/framework/cpu_allocator_impl.cc:82] Allocation of 3229876224 exceeds 10% of free system memory.\n",
      "2022-11-25 21:01:49.339732: W tensorflow/tsl/framework/cpu_allocator_impl.cc:82] Allocation of 807469056 exceeds 10% of free system memory.\n"
     ]
    }
   ],
   "source": [
    "r = model.fit(train_dataset, epochs=10, validation_data=validation_dataset) \n",
    "model.evaluate(validation_dataset)  #Определим точность и величину потерь с помощью метода evaluate()\n",
    "\n",
    "pred = model.predict(test_dataset)\n",
    "print(pred[0])\n",
    "\n",
    "plt.figure(figsize=(13, 8))\n",
    "plt.plot(r.history['loss'],label = 'train_loss')\n",
    "plt.plot(r.history['val_loss'], label = 'testing_loss')\n",
    "plt.title('loss')\n",
    "plt.legend()\n",
    "plt.show()\n",
    "\n",
    "plt.figure(figsize=(13, 8))\n",
    "plt.plot(r.history['accuracy'],label = 'training_accuracy')\n",
    "plt.plot(r.history['val_accuracy'], label = 'validation_accuracy')\n",
    "plt.title('Accuracy')\n",
    "plt.legend()\n",
    "plt.show()\n",
    "\n",
    "model.save(PATH + '/attest/Fruits and Vegetables/vegmodel.h5')"
   ]
  },
  {
   "cell_type": "code",
   "execution_count": null,
   "metadata": {
    "id": "NeYDD5paRHUW"
   },
   "outputs": [],
   "source": []
  },
  {
   "cell_type": "code",
   "execution_count": null,
   "metadata": {
    "id": "jdg9I_F3nyt9"
   },
   "outputs": [],
   "source": [
    "model.get_weights()\n"
   ]
  },
  {
   "cell_type": "code",
   "execution_count": null,
   "metadata": {
    "colab": {
     "base_uri": "https://localhost:8080/"
    },
    "id": "i1_ReLAIJbTJ",
    "outputId": "1f7f8d02-3f18-445a-dae9-7d422bae8bdf"
   },
   "outputs": [
    {
     "name": "stdout",
     "output_type": "stream",
     "text": [
      "34/34 [==============================] - 23s 595ms/step - loss: 1.0671 - accuracy: 0.7559\n"
     ]
    },
    {
     "data": {
      "text/plain": [
       "[1.0671184062957764, 0.7558823823928833]"
      ]
     },
     "execution_count": 12,
     "metadata": {},
     "output_type": "execute_result"
    }
   ],
   "source": [
    "model.evaluate(test_dataset)"
   ]
  },
  {
   "cell_type": "code",
   "execution_count": null,
   "metadata": {
    "id": "o9LWsLrYJcdJ"
   },
   "outputs": [],
   "source": [
    "# похоже, что оценивает некорректно\n",
    "model.evaluate(train_dataset)"
   ]
  },
  {
   "cell_type": "code",
   "execution_count": null,
   "metadata": {
    "id": "01iNGANCJYqY"
   },
   "outputs": [],
   "source": []
  },
  {
   "cell_type": "code",
   "execution_count": null,
   "metadata": {
    "id": "jhOp6srM2A_N"
   },
   "outputs": [],
   "source": [
    "import os\n",
    "\n",
    "for dirname, _, filenames in os.walk(PATH + '/attest/Fruits and Vegetables/test/'):\n",
    "  for filename in filenames:\n",
    "    imgname = dirname + '/' + filename\n",
    "    print(imgname)\n",
    "       \n",
    "    data = np.ndarray(shape=(1, 224, 224, 3), dtype=np.float32)\n",
    "    image1 = Image.open(imgname).convert('RGB')\n",
    "    size = (224, 224)\n",
    "    image1 = ImageOps.fit(image1, size, Image.Resampling.LANCZOS)\n",
    "    image_array = np.asarray(image1)\n",
    "    normalized_image_array = (image_array.astype(np.float32) / 127.0) - 1\n",
    "    data[0] = normalized_image_array\n",
    "\n",
    "    prediction = model.predict(data)\n",
    "    index = np.argmax(prediction)\n",
    "    print(index)\n",
    "    class_name = class_names[index]\n",
    "    confidence_score = prediction[0][index]\n",
    "\n",
    "    print('Class:', class_name, end=' ')\n",
    "    print('Confidence score:', confidence_score)"
   ]
  },
  {
   "cell_type": "code",
   "execution_count": null,
   "metadata": {
    "id": "ELj9WYPX8BOQ"
   },
   "outputs": [],
   "source": []
  },
  {
   "cell_type": "code",
   "execution_count": null,
   "metadata": {
    "colab": {
     "base_uri": "https://localhost:8080/",
     "height": 903
    },
    "id": "PIMXwAIf4N_D",
    "outputId": "6f54f4fe-1370-49bc-82dd-91d93132d005"
   },
   "outputs": [
    {
     "data": {
      "image/png": "[encoded data removed]",
      "text/plain": [
       "<Figure size 432x288 with 1 Axes>"
      ]
     },
     "metadata": {
      "needs_background": "light"
     },
     "output_type": "display_data"
    },
    {
     "name": "stdout",
     "output_type": "stream",
     "text": [
      "1/1 [==============================] - 0s 128ms/step\n",
      "[[0.0342992  0.03179435 0.03225011 0.05535646 0.03383838 0.04519001\n",
      "  0.03178493 0.02813716 0.03352604 0.0257447  0.03043465 0.0354212\n",
      "  0.02156665 0.02751723 0.02459254 0.03569063 0.03087219 0.02844774\n",
      "  0.03590978 0.03108253 0.04032227 0.02413542 0.0317864  0.02569037\n",
      "  0.02873478 0.02549317 0.03133499 0.02869888 0.02906583 0.03003982\n",
      "  0.02483245 0.02640918]]\n",
      "3\n",
      "[0.05535646]\n",
      "Class: bell pepper\n",
      " Confidence score: 0.055356458\n"
     ]
    },
    {
     "data": {
      "image/png": "[encoded data removed]",
      "text/plain": [
       "<Figure size 432x288 with 1 Axes>"
      ]
     },
     "metadata": {
      "needs_background": "light"
     },
     "output_type": "display_data"
    },
    {
     "name": "stdout",
     "output_type": "stream",
     "text": [
      "1/1 [==============================] - 0s 83ms/step\n",
      "[[0.03291867 0.02979284 0.02438211 0.03545597 0.03139403 0.03784593\n",
      "  0.03156802 0.03069292 0.03783539 0.02826146 0.02606907 0.0349549\n",
      "  0.0290637  0.02659706 0.04015933 0.04557931 0.02815942 0.03088634\n",
      "  0.03741746 0.03160515 0.03017994 0.02354837 0.03047153 0.02508813\n",
      "  0.03608273 0.02652946 0.03055582 0.02687536 0.02946833 0.03060419\n",
      "  0.02828392 0.03167312]]\n",
      "15\n",
      "[0.04557931]\n",
      "Class: lemon\n",
      " Confidence score: 0.045579307\n"
     ]
    }
   ],
   "source": [
    "#from google.colab.patches import cv2_imshow\n",
    "data = np.ndarray(shape=(1, 224, 224, 3), dtype=np.float32)\n",
    "image1 = Image.open(PATH + '/attest/Fruits and Vegetables/test/corn/Image_4.jpg').convert('RGB')\n",
    "plt.imshow(image1)\n",
    "plt.show()\n",
    "size = (224, 224)\n",
    "image1 = ImageOps.fit(image1, size, Image.Resampling.LANCZOS)\n",
    "image_array = np.asarray(image1)\n",
    "normalized_image_array = (image_array.astype(np.float32) / 127.0) - 1\n",
    "data[0] = normalized_image_array\n",
    "prediction = model.predict(data)\n",
    "print(prediction)\n",
    "index = np.argmax(prediction)\n",
    "print(index)\n",
    "print(prediction[:,index])\n",
    "class_name = class_names[index]\n",
    "confidence_score = prediction[0][index]\n",
    "\n",
    "print('Class:', class_name, end=' ')\n",
    "print('Confidence score:', confidence_score)\n",
    "\n",
    "image2 = Image.open(PATH + '/attest/Fruits and Vegetables/test/carrot/Image_2.jpg').convert('RGB')\n",
    "plt.imshow(image2)\n",
    "plt.show()\n",
    "size = (224, 224)\n",
    "image2 = ImageOps.fit(image2, size, Image.Resampling.LANCZOS)\n",
    "image_array = np.asarray(image2)\n",
    "normalized_image_array = (image_array.astype(np.float32) / 127.0) - 1\n",
    "data[0] = normalized_image_array\n",
    "prediction = model.predict(data)\n",
    "print(prediction)\n",
    "index = np.argmax(prediction)\n",
    "print(index)\n",
    "print(prediction[:,index])\n",
    "class_name = class_names[index]\n",
    "confidence_score = prediction[0][index]\n",
    "\n",
    "print('Class:', class_name, end=' ')\n",
    "print('Confidence score:', confidence_score)"
   ]
  },
  {
   "cell_type": "code",
   "execution_count": null,
   "metadata": {
    "colab": {
     "base_uri": "https://localhost:8080/"
    },
    "id": "n0nOhgFCy66V",
    "outputId": "157f2cce-8d4f-4854-ae5b-6f34161376b2"
   },
   "outputs": [
    {
     "name": "stdout",
     "output_type": "stream",
     "text": [
      "Downloading data from https://storage.googleapis.com/tensorflow/keras-applications/mobilenet_v2/mobilenet_v2_weights_tf_dim_ordering_tf_kernels_1.0_224_no_top.h5\n",
      "9406464/9406464 [==============================] - 0s 0us/step\n"
     ]
    }
   ],
   "source": [
    "\"\"\" Былы попытка использовать предобученную модель MobileNetV2, но особой разницы замечено не было. \"\"\"\n",
    "\n",
    "# Load the pretained model\n",
    "pretrained_model = tf.keras.applications.MobileNetV2(\n",
    "    input_shape=(224, 224, 3),\n",
    "    include_top=False,\n",
    "    weights='imagenet',\n",
    "    pooling='avg'\n",
    ")\n",
    "pretrained_model.trainable = False\n",
    "\n",
    "model = keras.Sequential([\n",
    "    pretrained_model, \n",
    "    Dense(128, activation='relu'),\n",
    "    Dense(32, activation='softmax')\n",
    "])\n",
    "\n",
    "# loss: 1.0592 - accuracy: 0.7605"
   ]
  },
  {
   "cell_type": "code",
   "execution_count": null,
   "metadata": {
    "id": "2YARWXZlin1v"
   },
   "outputs": [],
   "source": []
  },
  {
   "cell_type": "code",
   "execution_count": null,
   "metadata": {
    "colab": {
     "base_uri": "https://localhost:8080/"
    },
    "id": "IcBgkyqG4Rxr",
    "outputId": "d93e98a7-6a91-49db-fec2-6361d8b0c466"
   },
   "outputs": [
    {
     "name": "stdout",
     "output_type": "stream",
     "text": [
      "Mounted at /content/drive\n"
     ]
    }
   ],
   "source": [
    "from google.colab import drive\n",
    "drive.mount('/content/drive')"
   ]
  }
 ],
 "metadata": {
  "accelerator": "GPU",
  "colab": {
   "provenance": []
  },
  "gpuClass": "standard",
  "kernelspec": {
   "display_name": "Python 3 (ipykernel)",
   "language": "python",
   "name": "python3"
  },
  "language_info": {
   "codemirror_mode": {
    "name": "ipython",
    "version": 3
   },
   "file_extension": ".py",
   "mimetype": "text/x-python",
   "name": "python",
   "nbconvert_exporter": "python",
   "pygments_lexer": "ipython3",
   "version": "3.9.12"
  }
 },
 "nbformat": 4,
 "nbformat_minor": 1
}
